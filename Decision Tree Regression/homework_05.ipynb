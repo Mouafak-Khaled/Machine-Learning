{
  "nbformat": 4,
  "nbformat_minor": 0,
  "metadata": {
    "colab": {
      "name": "homework-05.ipynb",
      "provenance": [],
      "collapsed_sections": []
    },
    "kernelspec": {
      "name": "python3",
      "display_name": "Python 3"
    }
  },
  "cells": [
    {
      "cell_type": "markdown",
      "metadata": {
        "id": "o9SnisR1C0PY"
      },
      "source": [
        "#Mouafak Alsaid Hasan\n",
        "##homework-05\n",
        "##Decision Tree Regression"
      ]
    },
    {
      "cell_type": "markdown",
      "metadata": {
        "id": "ZOl0TMLZDDcM"
      },
      "source": [
        "##Library import"
      ]
    },
    {
      "cell_type": "code",
      "metadata": {
        "id": "wVIBq1jwCoqg"
      },
      "source": [
        "import numpy as np\n",
        "import matplotlib.pyplot as plt\n",
        "import pandas as pd\n",
        "import scipy.stats as stats\n",
        "import math"
      ],
      "execution_count": 35,
      "outputs": []
    },
    {
      "cell_type": "markdown",
      "metadata": {
        "id": "mPyhYngwDTXg"
      },
      "source": [
        "##Importing Data from the Homework File"
      ]
    },
    {
      "cell_type": "code",
      "metadata": {
        "id": "1gBQ4tvXDaKj",
        "colab": {
          "base_uri": "https://localhost:8080/"
        },
        "outputId": "2a80e34f-ca27-4187-8390-ac13985fc523"
      },
      "source": [
        "size = 134\n",
        "data = np.genfromtxt(\"hw04_data_set.csv\", delimiter=\",\")[1:size, 0]\n",
        "labels = np.genfromtxt(\"hw04_data_set.csv\", delimiter=\",\")[1:size, 1]\n",
        "training_inputs,training_labels, test_labels, test_inputs = [], [],[], []\n",
        "\n",
        "\n",
        "for i in range(size - 1): \n",
        "  if i < 100:\n",
        "    training_inputs.append(data[i]) \n",
        "    training_labels.append(labels[i])\n",
        "  else:\n",
        "    test_inputs.append(data[i]) \n",
        "    test_labels.append(labels[i])  \n",
        "\n",
        "training_inputs, training_labels = np.array(training_inputs), np.array(training_labels)\n",
        "test_inputs, test_labels = np.array(test_inputs), np.array(test_labels)\n",
        "\n",
        "test = [0,3,5,4]\n",
        "print(training_inputs[test])\n"
      ],
      "execution_count": 36,
      "outputs": [
        {
          "output_type": "stream",
          "text": [
            "[24.  31.2 15.6 13.8]\n"
          ],
          "name": "stdout"
        }
      ]
    },
    {
      "cell_type": "markdown",
      "metadata": {
        "id": "_OcAKsw9Hdlv"
      },
      "source": [
        "##Decision Tree Regression Algorithm"
      ]
    },
    {
      "cell_type": "markdown",
      "metadata": {
        "id": "wwuF9RfeUzs2"
      },
      "source": [
        "##Learning Process"
      ]
    },
    {
      "cell_type": "code",
      "metadata": {
        "id": "Lwd3Pl_YPSNv"
      },
      "source": [
        "# learning algorithm\n",
        "def learn_decsion_tree(X, Y, p, node_indices, is_terminal, need_split, node_features, node_splits, node_frequencies):\n",
        "  while True:\n",
        "    # find nodes that need splitting\n",
        "    split_nodes = [key for key, value in need_split.items() if value == True]\n",
        "    # check whether we reach all terminal nodes\n",
        "    if len(split_nodes) == 0:\n",
        "        break\n",
        "    # find best split positions for all nodes\n",
        "    for split_node in split_nodes:\n",
        "        data_indices = node_indices[split_node]\n",
        "        need_split[split_node] = False\n",
        "        node_frequencies[split_node] = np.mean([Y[i] for i in data_indices])\n",
        "\n",
        "        if len(data_indices) <= p:\n",
        "            is_terminal[split_node] = True\n",
        "        else:\n",
        "            is_terminal[split_node] = False\n",
        "         \n",
        "            unique_values = np.sort(np.unique(X[data_indices]))\n",
        "            split_positions = (unique_values[1:len(unique_values)] + unique_values[0:(len(unique_values) - 1)]) / 2\n",
        "            split_scores = np.repeat(0.0, len(split_positions))\n",
        "            for s in range(len(split_positions)):\n",
        "                left_indices = data_indices[X[data_indices] < split_positions[s]]\n",
        "                right_indices = data_indices[X[data_indices] >= split_positions[s]]\n",
        "                split_scores[s] = (1/len(data_indices)) * ( np.sum([(Y[left_indices] - np.mean(Y[left_indices]))**2]) + np.sum([(Y[right_indices] - np.mean(Y[right_indices]))**2]))\n",
        "\n",
        "            best_score = np.min(split_scores)\n",
        "            best_split = split_positions[np.argmin(split_scores)]\n",
        "\n",
        "            # decide where to split on which feature\n",
        "            node_features[split_node] = np.argmin(best_score)\n",
        "            node_splits[split_node] = best_split\n",
        "            \n",
        "            # create left node using the selected split\n",
        "            left_indices = data_indices[X[data_indices] < best_split]\n",
        "            node_indices[2 * split_node] = left_indices\n",
        "            is_terminal[2 * split_node] = False\n",
        "            need_split[2 * split_node] = True\n",
        "      \n",
        "            # create right node using the selected split\n",
        "            right_indices = data_indices[X[data_indices] >= best_split]\n",
        "            node_indices[2 * split_node + 1] = right_indices\n",
        "            is_terminal[2 * split_node + 1] = False\n",
        "            need_split[2 * split_node + 1] = True\n",
        "\n",
        "  return  node_indices, is_terminal, need_split, node_features, node_splits, node_frequencies  \n",
        "\n",
        "    \n",
        "\n"
      ],
      "execution_count": 37,
      "outputs": []
    },
    {
      "cell_type": "markdown",
      "metadata": {
        "id": "7PFaP09sbWRE"
      },
      "source": [
        "##Extending the learning process to mutiple values of pre-pruning parameter."
      ]
    },
    {
      "cell_type": "code",
      "metadata": {
        "id": "F_CpNCsLbcAj"
      },
      "source": [
        "P_values = [(5 * i + 5) for i in range(10)]\n",
        "# create necessary data structures\n",
        "node_indices_lists, is_terminal_lists, need_split_lists = [], [], []\n",
        "node_features_lists, node_splits_lists, node_frequencies_lists = [], [], []\n",
        "\n",
        "for i in range(len(P_values)):\n",
        "  node_indices, is_terminal, need_split = {}, {}, {}\n",
        "  node_features, node_splits, node_frequencies = {},{},{}\n",
        "  node_indices[1] = np.array(range(100))\n",
        "  is_terminal[1] = False\n",
        "  need_split[1] = True\n",
        "  node_indices, is_terminal, need_split, node_features, node_splits, node_frequencies = learn_decsion_tree(training_inputs, training_labels, P_values[i], node_indices, is_terminal, need_split, node_features, node_splits, node_frequencies )\n",
        "  node_indices_lists.append(node_indices)\n",
        "  is_terminal_lists.append(is_terminal)\n",
        "  need_split_lists.append(need_split)\n",
        "  node_features_lists.append(node_features)\n",
        "  node_splits_lists.append(node_splits)\n",
        "  node_frequencies_lists.append(node_frequencies)\n",
        "\n",
        "\n",
        "node_indices_lists, is_terminal_lists, need_split_lists = np.array(node_indices_lists), np.array(is_terminal_lists), np.array(need_split_lists)\n",
        "node_features_lists, node_splits_lists, node_frequencies_lists = np.array(node_features_lists), np.array(node_splits_lists), np.array(node_frequencies_lists)"
      ],
      "execution_count": 38,
      "outputs": []
    },
    {
      "cell_type": "markdown",
      "metadata": {
        "id": "RVL-drRKWrZI"
      },
      "source": [
        "##Prediction Function"
      ]
    },
    {
      "cell_type": "code",
      "metadata": {
        "id": "GsEmAb7lWr_k"
      },
      "source": [
        "def predict(X, terminals, frequences, splits):\n",
        "    scores = np.zeros(len(X))\n",
        "    for i in range(len(X)):\n",
        "        j = 1\n",
        "        while True:\n",
        "            if terminals[j]:\n",
        "                scores[i] = frequences[j]\n",
        "                break\n",
        "            else:\n",
        "                if X[i] <= splits[j]:\n",
        "                    j = 2 * j\n",
        "                else:\n",
        "                    j = 2 * j + 1\n",
        "    return scores"
      ],
      "execution_count": 39,
      "outputs": []
    },
    {
      "cell_type": "markdown",
      "metadata": {
        "id": "3ylGqkhG6NT_"
      },
      "source": [
        "##plotting The Decsion Tree"
      ]
    },
    {
      "cell_type": "code",
      "metadata": {
        "colab": {
          "base_uri": "https://localhost:8080/",
          "height": 404
        },
        "id": "xf8vZilf6SVY",
        "outputId": "514265ca-90c5-4c32-8330-00be5e6bece3"
      },
      "source": [
        "minimum_value = 0\n",
        "maximum_value = 60\n",
        "data_interval = np.linspace(minimum_value, maximum_value, 1601)\n",
        "y_predicted = predict(data_interval, is_terminal_lists[2], node_frequencies_lists[2], node_splits_lists[2])\n",
        "\n",
        "#Plotting the regressogram and the data points\n",
        "plt.figure(figsize=(10,6))\n",
        "plt.plot(training_inputs, training_labels, \"b.\", markersize= 8, label='Training Points', color ='Blue')\n",
        "plt.plot(test_inputs, test_labels, \"r.\", markersize= 8, label= 'Test Points', color = 'Red')\n",
        "plt.step(data_interval, y_predicted, where='post', color='black')\n",
        "plt.ylabel('y')\n",
        "plt.xlabel('x')\n",
        "plt.title(label = (\"P = \" + str(P_values[2])))\n",
        "plt.legend(loc = 'upper left')\n",
        "plt.show()\n",
        "plt.show()"
      ],
      "execution_count": 40,
      "outputs": [
        {
          "output_type": "display_data",
          "data": {
            "image/png": "[encoded data removed]",
            "text/plain": [
              "<Figure size 720x432 with 1 Axes>"
            ]
          },
          "metadata": {
            "tags": [],
            "needs_background": "light"
          }
        }
      ]
    },
    {
      "cell_type": "markdown",
      "metadata": {
        "id": "9uHDv2QdRX-E"
      },
      "source": [
        "##The Root Mean Squared Error (RMSE) "
      ]
    },
    {
      "cell_type": "code",
      "metadata": {
        "colab": {
          "base_uri": "https://localhost:8080/"
        },
        "id": "_liXSMNCRca0",
        "outputId": "b61a0421-14e3-448e-b548-d0f6a1d25871"
      },
      "source": [
        "def RMSE(Y_truth, Y_predicted):\n",
        "  sum = 0.0\n",
        "  K = len(Y_truth)\n",
        "  for i in range(K):\n",
        "    sum += (Y_truth[i] - Y_predicted[i]) ** 2\n",
        "  return np.sqrt(sum/K)\n",
        "\n",
        "y_pr = predict(test_inputs, is_terminal_lists[2], node_frequencies_lists[2], node_splits_lists[2])\n",
        "tree_error = RMSE(test_labels, y_pr)\n",
        "print(\"RMSE is \", tree_error, \"When P is \", P_values[2])"
      ],
      "execution_count": 41,
      "outputs": [
        {
          "output_type": "stream",
          "text": [
            "RMSE is  26.87765508724891 When P is  15\n"
          ],
          "name": "stdout"
        }
      ]
    },
    {
      "cell_type": "markdown",
      "metadata": {
        "id": "p-lWMBurh-nl"
      },
      "source": [
        "##RMSE As A Function of P"
      ]
    },
    {
      "cell_type": "code",
      "metadata": {
        "colab": {
          "base_uri": "https://localhost:8080/",
          "height": 387
        },
        "id": "IXFKFGHsh_DU",
        "outputId": "cfece71b-e3e3-4fe2-b32b-78ac400a5f2f"
      },
      "source": [
        "RMSE_VALUES = []\n",
        "for i in range(len(P_values)):\n",
        "  scores = predict(test_inputs, is_terminal_lists[i], node_frequencies_lists[i], node_splits_lists[i])\n",
        "  RMSE_VALUES.append(RMSE(test_labels, scores))\n",
        "\n",
        "#Plotting the regressogram and the data points\n",
        "min_p_value = np.min(P_values)\n",
        "max_p_value = np.max(P_values)\n",
        "plt.figure(figsize=(12,6))\n",
        "plt.plot(P_values, RMSE_VALUES, marker= 'o', color ='black')\n",
        "plt.ylabel('RMSE')\n",
        "plt.xlabel('Pre-pruning Size')\n",
        "plt.show()\n",
        "plt.show()"
      ],
      "execution_count": 54,
      "outputs": [
        {
          "output_type": "display_data",
          "data": {
            "image/png": "[encoded data removed]",
            "text/plain": [
              "<Figure size 864x432 with 1 Axes>"
            ]
          },
          "metadata": {
            "tags": [],
            "needs_background": "light"
          }
        }
      ]
    }
  ]
}