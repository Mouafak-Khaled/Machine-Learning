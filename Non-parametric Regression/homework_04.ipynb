{
  "nbformat": 4,
  "nbformat_minor": 0,
  "metadata": {
    "colab": {
      "name": "homework-04.ipynb",
      "provenance": [],
      "collapsed_sections": [],
      "toc_visible": true
    },
    "kernelspec": {
      "name": "python3",
      "display_name": "Python 3"
    }
  },
  "cells": [
    {
      "cell_type": "markdown",
      "metadata": {
        "id": "BYYblol_gJGm"
      },
      "source": [
        "#Mouafak Alsaid Hasan\n",
        "\n",
        "##Homework-04 Nonparametric Regression"
      ]
    },
    {
      "cell_type": "code",
      "metadata": {
        "id": "Ju0SurlZgpRg"
      },
      "source": [
        "import numpy as np\n",
        "import matplotlib.pyplot as plt\n",
        "import pandas as pd\n",
        "import scipy.stats as stats\n",
        "import math"
      ],
      "execution_count": 28,
      "outputs": []
    },
    {
      "cell_type": "markdown",
      "metadata": {
        "id": "B0K_nGy4hUxT"
      },
      "source": [
        "##Importing Data from the homework file"
      ]
    },
    {
      "cell_type": "code",
      "metadata": {
        "id": "xsgK9T9ahdCz"
      },
      "source": [
        "data_set = np.genfromtxt(\"hw04_data_set.csv\", delimiter=\",\")\n",
        "training_inputs,training_labels, test_labels, test_inputs = [], [],[], []\n",
        "\n",
        "inputs = np.array(data_set[1:len(data_set), 0])\n",
        "labels = np.array(data_set[1:len(data_set), 1])\n",
        "\n",
        "for i in range(len(data_set) - 1): \n",
        "  if i < 100:\n",
        "    training_inputs.append(data_set[i + 1,0]) \n",
        "    training_labels.append(data_set[i + 1,1])\n",
        "  else:\n",
        "    test_inputs.append(data_set[i + 1,0]) \n",
        "    test_labels.append(data_set[i + 1,1])  \n",
        "\n",
        "training_inputs, training_labels = np.array(training_inputs), np.array(training_labels)\n",
        "test_inputs, test_labels = np.array(test_inputs), np.array(test_labels)\n",
        "\n",
        "\n"
      ],
      "execution_count": 29,
      "outputs": []
    },
    {
      "cell_type": "markdown",
      "metadata": {
        "id": "gtyXFGRYguvn"
      },
      "source": [
        "##Definitions"
      ]
    },
    {
      "cell_type": "code",
      "metadata": {
        "id": "d2r1eXz3gxeB"
      },
      "source": [
        "h = 3\n",
        "minimum_value = 0\n",
        "maximum_value = 60\n",
        "left_borders = np.arange(minimum_value, maximum_value, h)\n",
        "right_borders = np.arange(minimum_value + h, maximum_value + h, h)\n",
        "data_interval = np.linspace(minimum_value, maximum_value, 1601)\n",
        "\n",
        "def RMSE(Y_truth, Y_predicted):\n",
        "  sum = 0.0\n",
        "  K = len(Y_truth)\n",
        "  for i in range(K):\n",
        "    sum += (Y_truth[i] - Y_predicted[i]) ** 2\n",
        "  return np.sqrt(sum/K)"
      ],
      "execution_count": 30,
      "outputs": []
    },
    {
      "cell_type": "markdown",
      "metadata": {
        "id": "bsHqIYysvDAE"
      },
      "source": [
        "##Regressogram Algorithm"
      ]
    },
    {
      "cell_type": "code",
      "metadata": {
        "colab": {
          "base_uri": "https://localhost:8080/",
          "height": 404
        },
        "id": "7mTuJJkCvH6Q",
        "outputId": "841b0a1f-ec34-4c6a-9931-ecb60472f32d"
      },
      "source": [
        "def regressogram(X,Y, L_borders, R_borders):\n",
        "  \n",
        "  values = []\n",
        "  for i in range(len(left_borders)):\n",
        "    sum , counter= 0.0, 0\n",
        "    for j in range(len(X)):\n",
        "      if X[j] >= left_borders[i] and X[j] < right_borders[i]:\n",
        "        sum += Y[j]\n",
        "        counter += 1\n",
        "    values.append(sum/counter)\n",
        "  return np.array(values) \n",
        "\n",
        "\n",
        "\n",
        "  \n",
        "\n",
        "def y_predicted(X,Y, left_borders, right_borders, estimators):\n",
        "  y_pred_scores = []\n",
        "  for i in range(len(X)):\n",
        "    for j in range(len(left_borders)):\n",
        "      if X[i] >= left_borders[j] and X[i] < right_borders[j]:\n",
        "        y_pred_scores.append(estimators[j])\n",
        "  return np.array(y_pred_scores)\n",
        "\n",
        "\n",
        "estimators = regressogram(training_inputs, training_labels, left_borders, right_borders)\n",
        "y_pr = y_predicted(test_inputs, test_labels,left_borders, right_borders, estimators)\n",
        "\n",
        "\n",
        "#Plotting the regressogram and the data points\n",
        "plt.figure(figsize=(10,6))\n",
        "plt.plot(training_inputs, training_labels, \"b.\", markersize= 8, label='Training Points', color ='Blue')\n",
        "plt.plot(test_inputs, test_labels, \"r.\", markersize= 8, label= 'Test Points', color = 'Red')\n",
        "for b in range(len(left_borders)):\n",
        "    plt.plot([left_borders[b], right_borders[b]], [estimators[b], estimators[b]], \"k-\")\n",
        "for b in range(len(left_borders) - 1):\n",
        "    plt.plot([right_borders[b], right_borders[b]], [estimators[b], estimators[b + 1]], \"k-\")    \n",
        "\n",
        "plt.ylabel('y')\n",
        "plt.xlabel('x')\n",
        "plt.title(label = (\"h = \" + str(h)))\n",
        "plt.legend(loc = 'upper left')\n",
        "plt.show()\n",
        "plt.show()\n",
        "\n",
        "\n",
        "\n"
      ],
      "execution_count": 31,
      "outputs": [
        {
          "output_type": "display_data",
          "data": {
            "image/png": "[encoded data removed]",
            "text/plain": [
              "<Figure size 720x432 with 1 Axes>"
            ]
          },
          "metadata": {
            "tags": [],
            "needs_background": "light"
          }
        }
      ]
    },
    {
      "cell_type": "markdown",
      "metadata": {
        "id": "ALhkMTQ0cq97"
      },
      "source": [
        "##The Root Mean Square Error RMSE of Regressogram Algorithm"
      ]
    },
    {
      "cell_type": "code",
      "metadata": {
        "colab": {
          "base_uri": "https://localhost:8080/"
        },
        "id": "JbEdWiSRfGCh",
        "outputId": "2900d5af-3859-4e42-a602-023ee1975d1b"
      },
      "source": [
        "reg_error = RMSE(test_labels, y_pr)\n",
        "print(\"RMSE is \", reg_error, \"When h is \", h)"
      ],
      "execution_count": 32,
      "outputs": [
        {
          "output_type": "stream",
          "text": [
            "RMSE is  24.25985527058772 When h is  3\n"
          ],
          "name": "stdout"
        }
      ]
    },
    {
      "cell_type": "markdown",
      "metadata": {
        "id": "j4Q1lfAJgdON"
      },
      "source": [
        "##Running Mean Smoother Algorithm"
      ]
    },
    {
      "cell_type": "code",
      "metadata": {
        "colab": {
          "base_uri": "https://localhost:8080/",
          "height": 404
        },
        "id": "jTIcW8MucvKX",
        "outputId": "26de64f7-4b01-4d85-bb8c-98a4387923e5"
      },
      "source": [
        "def w(u):\n",
        "  if np.absolute(u) < 1:\n",
        "    return 1\n",
        "  else:\n",
        "    return 0\n",
        "\n",
        "def score_function(X, Y, x, bin):\n",
        "  K = len(X)\n",
        "  sum = 0\n",
        "  denomenator = 0\n",
        "  for i in range(K):\n",
        "    sum += w((x - X[i]) / bin) * Y[i]\n",
        "    denomenator += w((x - X[i]) / bin)\n",
        "  return sum / denomenator\n",
        "\n",
        "def _scores(X,Y, test_X):\n",
        "  scores = []\n",
        "  K = len(test_X)\n",
        "  for i in range(K):\n",
        "    scores.append(score_function(X, Y, test_X[i],h))\n",
        "  return np.array(scores)\n",
        "\n",
        "y_pr_scores = _scores(training_inputs, training_labels, test_inputs)\n",
        "\n",
        "#Plotting the regressogram and the data points\n",
        "plt.figure(figsize=(10,6))\n",
        "plt.plot(training_inputs, training_labels, \"b.\", markersize= 8, label='Training Points', color ='Blue')\n",
        "plt.plot(test_inputs, test_labels, \"r.\", markersize= 8, label= 'Test Points', color = 'Red')\n",
        "plt.plot(data_interval, _scores(training_inputs, training_labels, data_interval), \"k-\")\n",
        "\n",
        "\n",
        "plt.ylabel('y')\n",
        "plt.xlabel('x')\n",
        "plt.title(label = (\"h = \" + str(h)))\n",
        "plt.legend(loc = 'upper left')\n",
        "plt.show()\n",
        "\n",
        "\n",
        "\n"
      ],
      "execution_count": 33,
      "outputs": [
        {
          "output_type": "display_data",
          "data": {
            "image/png": "[encoded data removed]",
            "text/plain": [
              "<Figure size 720x432 with 1 Axes>"
            ]
          },
          "metadata": {
            "tags": [],
            "needs_background": "light"
          }
        }
      ]
    },
    {
      "cell_type": "markdown",
      "metadata": {
        "id": "5mLEhGEQxajd"
      },
      "source": [
        "##The Root Mean Square Error RMSE of Running Mean Smoother "
      ]
    },
    {
      "cell_type": "code",
      "metadata": {
        "colab": {
          "base_uri": "https://localhost:8080/"
        },
        "id": "sqk8UEzyxqsu",
        "outputId": "17065b54-dea8-4fea-8a8a-557cefc0dbd3"
      },
      "source": [
        "rms_error = RMSE(test_labels, y_pr_scores)\n",
        "print(\"RMSE is \", rms_error, \"When h is \", h)"
      ],
      "execution_count": 34,
      "outputs": [
        {
          "output_type": "stream",
          "text": [
            "RMSE is  23.476371819518477 When h is  3\n"
          ],
          "name": "stdout"
        }
      ]
    },
    {
      "cell_type": "markdown",
      "metadata": {
        "id": "n6LQ2-7H3SrX"
      },
      "source": [
        "##Kernal Smoother Algorithm"
      ]
    },
    {
      "cell_type": "code",
      "metadata": {
        "colab": {
          "base_uri": "https://localhost:8080/",
          "height": 404
        },
        "id": "qP-JJINe3ayf",
        "outputId": "96d33747-c63d-49a8-ce6f-25dc13b61b5d"
      },
      "source": [
        "def Kernal(u):\n",
        "  return (1/(2 * (math.pi)) ** 0.5 ) * np.exp(-(u * u)/2) \n",
        "\n",
        "\n",
        "def K_score_function(X, Y, x, bin):\n",
        "  K = len(X)\n",
        "  sum = 0\n",
        "  denomenator = 0\n",
        "  for i in range(K):\n",
        "    sum += Kernal((x - X[i]) / bin) * Y[i]\n",
        "    denomenator += Kernal((x - X[i]) / bin)\n",
        "  return sum / denomenator\n",
        "\n",
        "def K_scores(X,Y, test_X):\n",
        "  scores = []\n",
        "  K = len(test_X)\n",
        "  for i in range(K):\n",
        "    scores.append(K_score_function(X, Y, test_X[i],1))\n",
        "  return np.array(scores)\n",
        "\n",
        "y_ke_prid = K_scores(training_inputs, training_labels, test_inputs)\n",
        "\n",
        "#Plotting the regressogram and the data points\n",
        "plt.figure(figsize=(10,6))\n",
        "plt.plot(training_inputs, training_labels, \"b.\", markersize= 8, label='Training Points', color ='Blue')\n",
        "plt.plot(test_inputs, test_labels, \"r.\", markersize= 8, label= 'Test Points', color = 'Red')\n",
        "plt.plot(data_interval, K_scores(training_inputs, training_labels, data_interval), \"k-\")\n",
        "\n",
        "plt.ylabel('y')\n",
        "plt.xlabel('x')\n",
        "plt.title(label = (\"h = \" + str(1)))\n",
        "plt.legend(loc = 'upper left')\n",
        "plt.show()\n"
      ],
      "execution_count": 35,
      "outputs": [
        {
          "output_type": "display_data",
          "data": {
            "image/png": "[encoded data removed]",
            "text/plain": [
              "<Figure size 720x432 with 1 Axes>"
            ]
          },
          "metadata": {
            "tags": [],
            "needs_background": "light"
          }
        }
      ]
    },
    {
      "cell_type": "markdown",
      "metadata": {
        "id": "yQK55Fkv6SNy"
      },
      "source": [
        "##The Root Mean Square Error RMSE of Kernal Smoother"
      ]
    },
    {
      "cell_type": "code",
      "metadata": {
        "colab": {
          "base_uri": "https://localhost:8080/"
        },
        "id": "_qRDkdTl6bic",
        "outputId": "4d6ee24e-8a5e-438f-f31e-3ff42c96bfb1"
      },
      "source": [
        "k_error = RMSE(test_labels, y_ke_prid)\n",
        "print(\"RMSE is \", k_error, \"When h is \", 1)"
      ],
      "execution_count": 36,
      "outputs": [
        {
          "output_type": "stream",
          "text": [
            "RMSE is  24.167246266469398 When h is  1\n"
          ],
          "name": "stdout"
        }
      ]
    }
  ]
}