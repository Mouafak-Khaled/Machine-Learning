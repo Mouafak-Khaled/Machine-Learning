{
  "nbformat": 4,
  "nbformat_minor": 0,
  "metadata": {
    "colab": {
      "name": "homework-06.ipynb",
      "provenance": [],
      "collapsed_sections": []
    },
    "kernelspec": {
      "name": "python3",
      "display_name": "Python 3"
    }
  },
  "cells": [
    {
      "cell_type": "markdown",
      "metadata": {
        "id": "ThayetxvFnml"
      },
      "source": [
        "#Mouafak Alsaid Hasan\r\n",
        "## Expectation-Maximization Clustering"
      ]
    },
    {
      "cell_type": "markdown",
      "metadata": {
        "id": "2WhG_RU4GE5h"
      },
      "source": [
        "##Lib Import"
      ]
    },
    {
      "cell_type": "code",
      "metadata": {
        "id": "dXvtGifYFmFn"
      },
      "source": [
        "import numpy as np\r\n",
        "import matplotlib.pyplot as plt\r\n",
        "import pandas as pd\r\n",
        "import scipy.stats as stats\r\n",
        "import math\r\n",
        "import scipy.spatial as spa\r\n",
        "import matplotlib.patches as mp\r\n",
        "\r\n",
        "\r\n"
      ],
      "execution_count": 37,
      "outputs": []
    },
    {
      "cell_type": "markdown",
      "metadata": {
        "id": "UrV4nnhXGOHi"
      },
      "source": [
        "##Data Generation"
      ]
    },
    {
      "cell_type": "code",
      "metadata": {
        "id": "Fmxan-8QGQsc",
        "colab": {
          "base_uri": "https://localhost:8080/"
        },
        "outputId": "9d7ca7aa-55f2-432f-b54f-fbc8919c02bf"
      },
      "source": [
        "#definitions of covarience matrices for all sub_samples               \r\n",
        "def create_cov(A, B):\r\n",
        "  return [A, B]\r\n",
        "\r\n",
        "#an array containing the size of each sub-sample.\r\n",
        "sizes = np.array([50, 50, 50, 50, 100])\r\n",
        "#an array containing mean vectors.\r\n",
        "mean = np.array([[+2.5, +2.5], [-2.5, +2.5], [-2.5, -2.5], [+2.5, -2.5], [0.0, 0.0]])\r\n",
        "\r\n",
        "\r\n",
        "\r\n",
        "\r\n",
        "\r\n",
        "#covarience matrices\r\n",
        "cov_matrices = np.array([create_cov([+0.8, -0.6], [-0.6, +0.8]),\r\n",
        "                         create_cov([+0.8, +0.6], [+0.6, +0.8]),\r\n",
        "                         create_cov([+0.8, -0.6], [-0.6, +0.8]),\r\n",
        "                         create_cov([+0.8, +0.6], [+0.6, +0.8]),\r\n",
        "                         create_cov([+1.6, 0.0], [0.0, +1.6])  ])\r\n",
        "\r\n",
        "print(cov_matrices[0])\r\n",
        "#bivariate Gaussian data generation\r\n",
        "data_1 = np.random.multivariate_normal(mean[0], cov_matrices[0], sizes[0])\r\n",
        "data_2 = np.random.multivariate_normal(mean[1], cov_matrices[1], sizes[1])\r\n",
        "data_3 = np.random.multivariate_normal(mean[2], cov_matrices[2], sizes[2])\r\n",
        "data_4 = np.random.multivariate_normal(mean[3], cov_matrices[3], sizes[3])\r\n",
        "data_5 = np.random.multivariate_normal(mean[4], cov_matrices[4], sizes[4])\r\n",
        "data = np.concatenate((data_1, data_2, data_3, data_4, data_5))\r\n",
        "\r\n",
        "\r\n",
        "#size of data and number of clusters.\r\n",
        "N = len(data)\r\n",
        "K = 5\r\n",
        "\r\n",
        "\r\n",
        "\r\n"
      ],
      "execution_count": 38,
      "outputs": [
        {
          "output_type": "stream",
          "text": [
            "[[ 0.8 -0.6]\n",
            " [-0.6  0.8]]\n"
          ],
          "name": "stdout"
        }
      ]
    },
    {
      "cell_type": "markdown",
      "metadata": {
        "id": "7CxEbpCJLsSg"
      },
      "source": [
        "##Data Plot"
      ]
    },
    {
      "cell_type": "code",
      "metadata": {
        "colab": {
          "base_uri": "https://localhost:8080/",
          "height": 387
        },
        "id": "4hlD-f8vLuF7",
        "outputId": "1933e04c-b87a-43ac-fe76-41a751b216ec"
      },
      "source": [
        "#Plotting the data points\r\n",
        "plt.figure(figsize=(8,6))\r\n",
        "plt.plot(data_1[:, 0], data_1[:, 1], \"b.\", markersize= 12, color = 'black')\r\n",
        "plt.plot(data_2[:, 0], data_2[:, 1], \"b.\", markersize= 12, color = 'black')\r\n",
        "plt.plot(data_3[:, 0], data_3[:, 1], \"b.\", markersize= 12, color = 'black')\r\n",
        "plt.plot(data_4[:, 0], data_4[:, 1], \"b.\", markersize= 12, color = 'black')\r\n",
        "plt.plot(data_5[:, 0], data_5[:, 1], \"b.\", markersize= 12, color = 'black')\r\n",
        "plt.ylabel('x2')\r\n",
        "plt.xlabel('x1')\r\n",
        "plt.show()"
      ],
      "execution_count": 39,
      "outputs": [
        {
          "output_type": "display_data",
          "data": {
            "image/png": "[encoded data removed]",
            "text/plain": [
              "<Figure size 576x432 with 1 Axes>"
            ]
          },
          "metadata": {
            "tags": [],
            "needs_background": "light"
          }
        }
      ]
    },
    {
      "cell_type": "markdown",
      "metadata": {
        "id": "HpJG4SvPTAO1"
      },
      "source": [
        "##K-mean Clustering Algorithm"
      ]
    },
    {
      "cell_type": "code",
      "metadata": {
        "id": "XhjEsZ-jTEuq",
        "colab": {
          "base_uri": "https://localhost:8080/"
        },
        "outputId": "63c53a9a-03c6-4db5-ab35-0db35fe5231c"
      },
      "source": [
        "def update_centroids(memberships, X):\r\n",
        "    if memberships is None:\r\n",
        "        # initialize centroids\r\n",
        "        centroids = X[np.random.choice(range(N), K),:]\r\n",
        "    else:\r\n",
        "        # update centroids\r\n",
        "        centroids = np.vstack([np.mean(X[memberships == k,], axis = 0) for k in range(K)])\r\n",
        "    return(centroids)\r\n",
        "\r\n",
        "def update_memberships(centroids, X):\r\n",
        "    # calculate distances between centroids and data points\r\n",
        "    D = spa.distance_matrix(centroids, X)\r\n",
        "    # find the nearest centroid for each data point\r\n",
        "    memberships = np.argmin(D, axis = 0)\r\n",
        "    return(memberships)\r\n",
        "\r\n",
        "# K-means for 2 iterations\r\n",
        "\r\n",
        "centroids = None\r\n",
        "memberships = None\r\n",
        "centroids = update_centroids(memberships, data)\r\n",
        "iteration = 0\r\n",
        "while iteration < 2:\r\n",
        "    \r\n",
        "    old_centroids = centroids\r\n",
        "    centroids = update_centroids(memberships, data)\r\n",
        "    old_memberships = memberships\r\n",
        "    memberships = update_memberships(centroids, data)\r\n",
        "    iteration = iteration + 1\r\n",
        "\r\n",
        "print(centroids)\r\n",
        "\r\n",
        "\r\n"
      ],
      "execution_count": 40,
      "outputs": [
        {
          "output_type": "stream",
          "text": [
            "[[ 1.32994747 -1.08622765]\n",
            " [ 2.29850823  2.41662191]\n",
            " [-2.0971908   2.88639639]\n",
            " [-2.31645583 -2.4425403 ]\n",
            " [-3.10487533  1.48637144]]\n"
          ],
          "name": "stdout"
        }
      ]
    },
    {
      "cell_type": "markdown",
      "metadata": {
        "id": "FfUfXmkueldw"
      },
      "source": [
        "##Expectation Maximization Algorithm"
      ]
    },
    {
      "cell_type": "code",
      "metadata": {
        "id": "u7ASyIlzeyUK",
        "colab": {
          "base_uri": "https://localhost:8080/"
        },
        "outputId": "b150f458-df03-445e-c622-00cb413aec9c"
      },
      "source": [
        "\r\n",
        "#methods for covariance matrix\r\n",
        "def initialize_cov(X, Y, mean, K):\r\n",
        "  denomenator = np.sum(Y)\r\n",
        "  numerator = create_cov([0.0, 0.0],[0.0, 0.0])\r\n",
        "  for j in range(len(X)):\r\n",
        "    point = np.reshape(X[j] - mean, (2,1))\r\n",
        "    numerator = numerator + np.multiply( Y[j], np.matmul(point, np.transpose(point)))\r\n",
        "  return np.array(numerator/denomenator)\r\n",
        "\r\n",
        "\r\n",
        "\r\n",
        "def update_cov_matrix(X, Y, mean, K):\r\n",
        "  return np.array([initialize_cov(X, Y[c], mean[c], K) for c in range(K)])\r\n",
        "\r\n",
        "#method for means\r\n",
        "def update_mean(X, Y, K):\r\n",
        "  means = []\r\n",
        "  for i in range(K):\r\n",
        "    sum = [0.0, 0.0]\r\n",
        "    denom = 0.0\r\n",
        "    for j in range (len(X)):\r\n",
        "      sum += np.multiply(Y[i][j], X[j])\r\n",
        "      denom += Y[i][j]\r\n",
        "    means.append(np.multiply(1/denom, sum))\r\n",
        "  return np.array(means)\r\n",
        "\r\n",
        "\r\n",
        "#methods to initialize and update priors\r\n",
        "def initialize_priors(Y, N, K):\r\n",
        "  priors = []\r\n",
        "  for i in range(K):\r\n",
        "    sum = 0\r\n",
        "    for j in range(N):\r\n",
        "      if i == Y[j]:\r\n",
        "        sum +=1\r\n",
        "    priors.append(sum/N)    \r\n",
        "  return np.array(priors)\r\n",
        "\r\n",
        "\r\n",
        "def update_prior(Y, N, K):\r\n",
        "  return np.array([(np.sum(Y[c])/N) for c in range(K)])\r\n",
        "\r\n",
        "#methods for memberships\r\n",
        "def membership_hik(x, mean, cov, priors, c, K):\r\n",
        "  numerator = np.multiply(priors[c], stats.multivariate_normal.pdf(x, mean[c], cov[c]))\r\n",
        "  denomenator = 0.0\r\n",
        "  for i in range(K):\r\n",
        "    denomenator += np.multiply(priors[i], stats.multivariate_normal.pdf(x, mean[i], cov[i]))\r\n",
        "  return numerator / denomenator\r\n",
        "\r\n",
        "def class_membership(X, mean, cov, priors,  K):\r\n",
        "  membership = [[], [], [], [], []]\r\n",
        "  for i in range(K):\r\n",
        "    for j in range(len(X)):\r\n",
        "      membership[i].append(membership_hik(X[j], mean, cov, priors,  i, K))\r\n",
        "  return np.array(membership)\r\n",
        "\r\n",
        "     \r\n",
        "priors = initialize_priors(memberships, N, K)\r\n",
        "initial_mean = centroids\r\n",
        "initial_labels = np.array([memberships for c in range(K)])\r\n",
        "\r\n",
        "cov = update_cov_matrix(data, initial_labels, initial_mean, K)\r\n",
        "Z = class_membership(data, initial_mean, cov, priors, K)\r\n",
        "iteration = 0\r\n",
        "\r\n",
        "while iteration < 100:\r\n",
        "\r\n",
        "  priors = update_prior(Z, N, K)\r\n",
        "  initial_mean = update_mean(data, Z, K)\r\n",
        "  cov = update_cov_matrix(data,Z, initial_mean, K)\r\n",
        "  Z = class_membership(data, initial_mean, cov, priors, K)\r\n",
        "  iteration +=1\r\n",
        "\r\n",
        "\r\n",
        "print(\"after the 100 iteration\")\r\n",
        "print(initial_mean)\r\n",
        "\r\n",
        "\r\n",
        "def predict(Y, K, N):\r\n",
        "  pred = [0 for i in range(N)]\r\n",
        "  point_1 = Y[0]\r\n",
        "  point_2 = Y[1]\r\n",
        "  point_3 = Y[2] \r\n",
        "  point_4 = Y[3] \r\n",
        "  point_5 = Y[4]\r\n",
        "  for j in range(N):\r\n",
        "    if point_1[j] > point_2[j] and point_1[j] > point_3[j] and point_1[j] > point_4[j] and point_1[j] > point_5[j]:\r\n",
        "      pred[j] = 0\r\n",
        "    if point_2[j] > point_1[j] and point_2[j] > point_3[j] and point_2[j] > point_4[j] and point_2[j] > point_5[j]:\r\n",
        "      pred[j] = 1\r\n",
        "    if point_3[j] > point_1[j] and point_3[j] > point_2[j] and point_3[j] > point_4[j] and point_3[j] > point_5[j]:\r\n",
        "      pred[j] = 2\r\n",
        "    if point_4[j] > point_1[j] and point_4[j] > point_2[j] and point_4[j] > point_3[j] and point_4[j] > point_5[j]:\r\n",
        "      pred[j] = 3\r\n",
        "    if point_5[j] > point_1[j] and point_5[j] > point_2[j] and point_5[j] > point_3[j] and point_5[j] > point_4[j]:\r\n",
        "      pred[j] = 4\r\n",
        "  return np.array(pred)\r\n",
        "\r\n",
        "\r\n",
        "      \r\n",
        "\r\n",
        "Y_predicted = predict(Z,K,N)\r\n",
        "\r\n",
        "  \r\n",
        "\r\n",
        "\r\n",
        "\r\n",
        "\r\n",
        "\r\n"
      ],
      "execution_count": 46,
      "outputs": [
        {
          "output_type": "stream",
          "text": [
            "after the 100 iteration\n",
            "[[ 0.98494246 -0.8036208 ]\n",
            " [ 2.48568387  2.56809781]\n",
            " [-2.84606553  2.44613252]\n",
            " [-2.5544433  -2.56424348]\n",
            " [-1.90620897  2.11172063]]\n"
          ],
          "name": "stdout"
        }
      ]
    },
    {
      "cell_type": "markdown",
      "metadata": {
        "id": "TrxwErpPrO57"
      },
      "source": [
        "##Plot of EM Algorithm's Results"
      ]
    },
    {
      "cell_type": "code",
      "metadata": {
        "colab": {
          "base_uri": "https://localhost:8080/",
          "height": 745
        },
        "id": "o4-to_m-rUwy",
        "outputId": "7615beb7-6900-4d86-e7c8-9fc063dfc5c5"
      },
      "source": [
        "cluster_colors = np.array([\"#e41a1c\", 'cyan', \"#4daf4a\", \"#984ea3\", \"#ff7f00\"])\r\n",
        "\r\n",
        "figure = plt.figure(figsize=(8,8))\r\n",
        "axis = figure.gca()\r\n",
        "\r\n",
        "for c in range(K):\r\n",
        "  plt.plot(data[Y_predicted == c, 0], data[Y_predicted == c, 1], \".\", markersize = 10, color = cluster_colors[c])\r\n",
        "\r\n",
        "\r\n",
        "\r\n",
        "def normal_elipce(x):\r\n",
        "    mean, x, Vt = np.linalg.svd(x)\r\n",
        "    angle = np.degrees(np.arctan2(mean[1, 0], mean[0, 0]))\r\n",
        "    width, height = 2 * np.sqrt(x)\r\n",
        "    return angle, width, height\r\n",
        " \r\n",
        "print(cov)\r\n",
        "for c in range(K):\r\n",
        "   angel, width, height = normal_elipce(cov_matrices[c])\r\n",
        "   orginal_elipce = mp.Ellipse(xy=mean[c], width=width, height=height, angle=angel,edgecolor='black', facecolor='none', linestyle='solid')\r\n",
        "   axis.add_artist(orginal_elipce)\r\n",
        "   \r\n",
        "\r\n",
        "for c, covar in zip(initial_mean, cov):\r\n",
        "   estimated_ang, es_width, es_height = normal_elipce(covar)\r\n",
        "   estimated_elipce = mp.Ellipse(xy=c, width= es_width, height= es_height, angle=estimated_ang, edgecolor='black', facecolor='none', linestyle='dashed')\r\n",
        "   axis.add_artist(estimated_elipce)\r\n",
        "   \r\n",
        "\r\n",
        "\r\n",
        "\r\n",
        "plt.ylabel('x2')\r\n",
        "plt.xlabel('x1')\r\n",
        "plt.show()\r\n"
      ],
      "execution_count": 47,
      "outputs": [
        {
          "output_type": "stream",
          "text": [
            "[[[ 2.69234256 -0.95675124]\n",
            "  [-0.95675124  2.67029151]]\n",
            "\n",
            " [[ 0.74943026 -0.59117205]\n",
            "  [-0.59117205  0.7107561 ]]\n",
            "\n",
            " [[ 0.80194951  0.70192167]\n",
            "  [ 0.70192167  0.87695377]]\n",
            "\n",
            " [[ 0.49702731 -0.44777491]\n",
            "  [-0.44777491  0.84267305]]\n",
            "\n",
            " [[ 0.12052793  0.1096884 ]\n",
            "  [ 0.1096884   0.15195895]]]\n"
          ],
          "name": "stdout"
        },
        {
          "output_type": "display_data",
          "data": {
            "image/png": "[encoded data removed]",
            "text/plain": [
              "<Figure size 576x576 with 1 Axes>"
            ]
          },
          "metadata": {
            "tags": [],
            "needs_background": "light"
          }
        }
      ]
    }
  ]
}