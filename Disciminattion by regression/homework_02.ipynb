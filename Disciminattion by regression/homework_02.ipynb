{
  "nbformat": 4,
  "nbformat_minor": 0,
  "metadata": {
    "colab": {
      "name": "homework-02.ipynb",
      "provenance": []
    },
    "kernelspec": {
      "name": "python3",
      "display_name": "Python 3"
    }
  },
  "cells": [
    {
      "cell_type": "markdown",
      "metadata": {
        "id": "V-MDFUQwN7n7"
      },
      "source": [
        "#Mouafak Alsaid Hasan\n",
        "\n",
        "##ENGR421 Homework-02\n",
        "\n",
        "###Linear Discrimination by Regression"
      ]
    },
    {
      "cell_type": "code",
      "metadata": {
        "id": "h_OwesfGON2p"
      },
      "source": [
        "import numpy as np\n",
        "import pandas as pd\n",
        "import matplotlib.pyplot as plt"
      ],
      "execution_count": 14,
      "outputs": []
    },
    {
      "cell_type": "markdown",
      "metadata": {
        "id": "ufC5b0d-PBBJ"
      },
      "source": [
        "## Definitions"
      ]
    },
    {
      "cell_type": "code",
      "metadata": {
        "id": "VOQC5DCPPDiX"
      },
      "source": [
        "def sigmond(W, w0, x):\n",
        "  return 1/(1 + np.exp(-(W.T * x + w0))) \n",
        "\n",
        "eta = 0.01\n",
        "epsilon = 1e-3\n"
      ],
      "execution_count": 70,
      "outputs": []
    },
    {
      "cell_type": "markdown",
      "metadata": {
        "id": "lRfR9yDutlE-"
      },
      "source": [
        "##Importing the Data sets"
      ]
    },
    {
      "cell_type": "code",
      "metadata": {
        "id": "g11HQxJEtqLc"
      },
      "source": [
        "#impoting the image data from hw02_data_set_images csv file.\n",
        "image_data_set = np.genfromtxt(\"hw02_data_set_images.csv\", delimiter = \",\")\n",
        "\n",
        "#impoting labels of the image data from hw02_data_set_labels csv file.\n",
        "labels_data_set = np.genfromtxt(\"hw02_data_set_labels.csv\",dtype= 'str', delimiter = \",\").astype(str)\n",
        "\n",
        "\n",
        "# creating arrays to seperate test and traing data sets\n",
        "training_set_data, test_set_data  = [], []\n",
        "training_set_labels, test_set_labels = [], []\n",
        "\n",
        "\n",
        "# fill in the arrays above.\n",
        "for i in range(len(image_data_set)):\n",
        "  if i <25 or (i >= 39 and i < 64) or (i >= 78 and i< 103) or (i >= 117 and i< 142) or (i >= 156 and i < 181):\n",
        "    training_set_data.append(image_data_set[i])\n",
        "    training_set_labels.append(labels_data_set[i])\n",
        "  else:\n",
        "    test_set_data.append(image_data_set[i])\n",
        "    test_set_labels.append(labels_data_set[i])\n",
        "\n",
        "\n",
        "\n",
        "\n"
      ],
      "execution_count": 67,
      "outputs": []
    },
    {
      "cell_type": "markdown",
      "metadata": {
        "id": "QnHnBJDrAG8p"
      },
      "source": [
        "##Discrimination by Regression Algorithm"
      ]
    },
    {
      "cell_type": "code",
      "metadata": {
        "id": "Pd6p-_vvAMdE"
      },
      "source": [
        ""
      ],
      "execution_count": null,
      "outputs": []
    }
  ]
}