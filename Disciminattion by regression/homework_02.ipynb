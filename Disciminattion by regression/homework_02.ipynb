{
  "nbformat": 4,
  "nbformat_minor": 0,
  "metadata": {
    "colab": {
      "name": "homework-02.ipynb",
      "provenance": [],
      "collapsed_sections": [],
      "toc_visible": true
    },
    "kernelspec": {
      "display_name": "Python 3",
      "name": "python3"
    }
  },
  "cells": [
    {
      "cell_type": "markdown",
      "metadata": {
        "id": "V-MDFUQwN7n7"
      },
      "source": [
        "#Mouafak Alsaid Hasan\n",
        "\n",
        "##ENGR421 Homework-02\n",
        "\n",
        "###Linear Discrimination by Regression"
      ]
    },
    {
      "cell_type": "code",
      "metadata": {
        "id": "h_OwesfGON2p"
      },
      "source": [
        "import numpy as np\n",
        "import pandas as pd\n",
        "import matplotlib.pyplot as plt"
      ],
      "execution_count": 38,
      "outputs": []
    },
    {
      "cell_type": "markdown",
      "metadata": {
        "id": "ufC5b0d-PBBJ"
      },
      "source": [
        "## Definitions"
      ]
    },
    {
      "cell_type": "code",
      "metadata": {
        "id": "VOQC5DCPPDiX"
      },
      "source": [
        "def sigmoid(W, w0, x):\n",
        "  return 1/(1 + np.exp(-(np.matmul(W,x) + w0))) \n",
        "\n",
        "K = 5\n",
        "eta = 0.01\n",
        "epsilon = 1e-3\n",
        "def safelog(x):\n",
        "    return(np.log(x + 1e-100))\n",
        "\n",
        "# define the gradient functions\n",
        "def gradient_W(X, y_truth, y_predicted):\n",
        "  grad_values = []\n",
        "  for c in range(K):\n",
        "    sum = [0.0 for k in range(X.shape[1])]\n",
        "    for i in range(len(X)):\n",
        "      sum += -((y_truth[i][c] - y_predicted[i][c]) * y_predicted[i][c] * (1 - y_predicted[i][c])) * X[i]\n",
        "    grad_values.append(sum)\n",
        "   \n",
        "  return np.array(grad_values)\n",
        "\n",
        "\n",
        "def gradient_w0(y_truth, y_predicted):\n",
        "  grad_values = []\n",
        "  for c in range(K):\n",
        "    sum = 0.0\n",
        "    for i in range(len(y_predicted)):\n",
        "      sum += -((y_truth[i][c] - y_predicted[i][c]) * y_predicted[i][c] * (1 - y_predicted[i][c]))\n",
        "    grad_values.append(sum)\n",
        "  return np.array(grad_values)\n",
        "\n",
        "\n",
        "def predict(X, W, W0):\n",
        "    y_predicted = np.array([sigmoid(wi, wi0, x) for x in X for wi, wi0 in zip(W, W0)])\n",
        "    y_predicted = y_predicted.reshape((len(X), K))\n",
        "    return y_predicted\n",
        "\n"
      ],
      "execution_count": 39,
      "outputs": []
    },
    {
      "cell_type": "markdown",
      "metadata": {
        "id": "lRfR9yDutlE-"
      },
      "source": [
        "##Importing the Data sets"
      ]
    },
    {
      "cell_type": "code",
      "metadata": {
        "id": "g11HQxJEtqLc"
      },
      "source": [
        "#impoting the image data from hw02_data_set_images csv file.\n",
        "image_data_set = np.genfromtxt(\"hw02_data_set_images.csv\", delimiter = \",\")\n",
        "\n",
        "#impoting labels of the image data from hw02_data_set_labels csv file.\n",
        "labels_data_set = np.genfromtxt(\"hw02_data_set_labels.csv\",dtype= 'str', delimiter = \",\").astype(str)\n",
        "\n",
        "# creating arrays to seperate test and traing data sets\n",
        "training_set_data, test_set_data  = [], []\n",
        "training_set_labels, test_set_labels = [], []\n",
        "\n",
        "\n",
        "\n",
        "\n",
        "\n",
        "\n",
        "# fill in the arrays above.\n",
        "for i in range(len(image_data_set)):\n",
        "  if i <25 or (i >= 39 and i < 64) or (i >= 78 and i< 103) or (i >= 117 and i< 142) or (i >= 156 and i < 181):\n",
        "    training_set_data.append(image_data_set[i])\n",
        "    training_set_labels.append(ord(labels_data_set[i][1]) -65)\n",
        "  else:\n",
        "    test_set_data.append(image_data_set[i])\n",
        "    test_set_labels.append(ord(labels_data_set[i][1]) -65)\n",
        "\n",
        "training_set_data = np.array(training_set_data)\n",
        "test_set_data = np.array(test_set_data)\n",
        "training_set_labels = np.array(training_set_labels)\n",
        "test_set_labels = np.array(test_set_labels)\n",
        "\n",
        "training_binary_labels = []\n",
        "test_binary_labels = []\n",
        "\n",
        "for i in test_set_labels:\n",
        "  if i == 0:\n",
        "    test_binary_labels.append([1,0,0,0,0])\n",
        "  elif i == 1:\n",
        "    test_binary_labels.append([0,1,0,0,0])\n",
        "  elif i == 2:\n",
        "    test_binary_labels.append([0,0,1,0,0])\n",
        "  elif i == 3:\n",
        "    test_binary_labels.append([0,0,0,1,0])\n",
        "  elif i == 4:\n",
        "    test_binary_labels.append([0,0,0,0,1])\n",
        "\n",
        "test_binary_labels = np.array(test_binary_labels)\n",
        "\n",
        "for i in training_set_labels:\n",
        "  if i == 0:\n",
        "    training_binary_labels.append([1,0,0,0,0])\n",
        "  elif i == 1:\n",
        "    training_binary_labels.append([0,1,0,0,0])\n",
        "  elif i == 2:\n",
        "    training_binary_labels.append([0,0,1,0,0])\n",
        "  elif i == 3:\n",
        "    training_binary_labels.append([0,0,0,1,0])\n",
        "  elif i == 4:\n",
        "    training_binary_labels.append([0,0,0,0,1])\n",
        "\n",
        "training_binary_labels = np.array(training_binary_labels)\n",
        "\n"
      ],
      "execution_count": 40,
      "outputs": []
    },
    {
      "cell_type": "markdown",
      "metadata": {
        "id": "QnHnBJDrAG8p"
      },
      "source": [
        "##Discrimination by Regression Algorithm"
      ]
    },
    {
      "cell_type": "markdown",
      "metadata": {
        "id": "bS6J9v313YZ7"
      },
      "source": [
        "##Paramaeter Initialization"
      ]
    },
    {
      "cell_type": "code",
      "metadata": {
        "id": "Pd6p-_vvAMdE"
      },
      "source": [
        "# randomly initalize W and w0\n",
        "np.random.seed(421)\n",
        "W = np.random.uniform(low = -0.01, high = 0.01, size = (K,training_set_data.shape[1]))\n",
        "w0 = np.random.uniform(low = -0.01, high = 0.01, size = K)\n",
        "\n"
      ],
      "execution_count": 41,
      "outputs": []
    },
    {
      "cell_type": "markdown",
      "metadata": {
        "id": "uiWytZlS416l"
      },
      "source": [
        "##Iterative Algorithm"
      ]
    },
    {
      "cell_type": "code",
      "metadata": {
        "id": "CkQHPXHP457C"
      },
      "source": [
        "# learn W and w0 using gradient descent\n",
        "iteration = 1\n",
        "objective_values = []\n",
        "while 1:\n",
        "    y_predicted = predict(training_set_data, W,w0)\n",
        "    objective_values = np.append(objective_values, -np.sum((training_binary_labels * safelog(y_predicted))))\n",
        "    W_old = W\n",
        "    w0_old = w0\n",
        "    W = W -  eta * gradient_W(training_set_data, training_binary_labels, y_predicted)\n",
        "    w0 = w0 - eta * gradient_w0(training_binary_labels, y_predicted)\n",
        "    if np.sqrt(np.sum((w0 - w0_old))**2 + np.sum((W - W_old)**2)) < epsilon:\n",
        "      break\n",
        "    iteration = iteration + 1\n",
        "   \n",
        "\n",
        "\n",
        "\n"
      ],
      "execution_count": null,
      "outputs": []
    },
    {
      "cell_type": "markdown",
      "metadata": {
        "id": "HZLWpPcq-hPq"
      },
      "source": [
        "##Convergence"
      ]
    },
    {
      "cell_type": "code",
      "metadata": {
        "id": "ZqMEzz1x-jRI",
        "outputId": "396ba166-b24c-488e-818b-8f8f2aa04317",
        "colab": {
          "base_uri": "https://localhost:8080/",
          "height": 388
        }
      },
      "source": [
        "# plot objective function during iterations\n",
        "plt.figure(figsize = (10, 6))\n",
        "plt.plot(range(1, iteration + 1), objective_values, \"k-\")\n",
        "plt.xlabel(\"Iteration\")\n",
        "plt.ylabel(\"Error\")\n",
        "plt.show()"
      ],
      "execution_count": 43,
      "outputs": [
        {
          "output_type": "display_data",
          "data": {
            "image/png": "[encoded data removed]",
            "text/plain": [
              "<Figure size 720x432 with 1 Axes>"
            ]
          },
          "metadata": {
            "tags": [],
            "needs_background": "light"
          }
        }
      ]
    },
    {
      "cell_type": "markdown",
      "metadata": {
        "id": "yxRvYrYLSV_y"
      },
      "source": [
        "##Traininig Data Confusion Matrix"
      ]
    },
    {
      "cell_type": "code",
      "metadata": {
        "id": "BPCt3kHISca5",
        "outputId": "b63cd7dc-e2dc-4fd9-8f01-dafae2eb4864",
        "colab": {
          "base_uri": "https://localhost:8080/"
        }
      },
      "source": [
        "# calculate confusion matrix\n",
        "training_y_pred = np.argmax(y_predicted, axis = 1)\n",
        "confusion_matrix = pd.crosstab(training_y_pred, training_set_labels, rownames = ['y_pred'], colnames = ['y_truth'])\n",
        "print(confusion_matrix)"
      ],
      "execution_count": 44,
      "outputs": [
        {
          "output_type": "stream",
          "text": [
            "y_truth   0   1   2   3   4\n",
            "y_pred                     \n",
            "0        25   0   0   0   0\n",
            "1         0  25   0   0   0\n",
            "2         0   0  25   0   0\n",
            "3         0   0   0  25   0\n",
            "4         0   0   0   0  25\n"
          ],
          "name": "stdout"
        }
      ]
    },
    {
      "cell_type": "markdown",
      "metadata": {
        "id": "STgcSiJa0Z4G"
      },
      "source": [
        "##Test Data Confusion Matrix"
      ]
    },
    {
      "cell_type": "code",
      "metadata": {
        "id": "nz89xY4w0du8",
        "outputId": "0b1e14f1-0f0b-4cad-dd42-1db0d09c5819",
        "colab": {
          "base_uri": "https://localhost:8080/"
        }
      },
      "source": [
        "# calculate confusion matrix\n",
        "test_y_pred = np.argmax(predict(test_set_data, W,w0), axis = 1)\n",
        "confusion_matrix = pd.crosstab(test_y_pred, test_set_labels, rownames = ['y_pred'], colnames = ['y_truth'])\n",
        "print(confusion_matrix)"
      ],
      "execution_count": 45,
      "outputs": [
        {
          "output_type": "stream",
          "text": [
            "y_truth   0   1   2   3   4\n",
            "y_pred                     \n",
            "0        13   1   0   0   0\n",
            "1         1  11   0   0   2\n",
            "2         0   0  14   0   0\n",
            "3         0   0   0  14   0\n",
            "4         0   2   0   0  12\n"
          ],
          "name": "stdout"
        }
      ]
    }
  ]
}