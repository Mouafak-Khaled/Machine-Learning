{
  "nbformat": 4,
  "nbformat_minor": 0,
  "metadata": {
    "colab": {
      "name": "homework-03.ipynb",
      "provenance": [],
      "collapsed_sections": [],
      "toc_visible": true
    },
    "kernelspec": {
      "name": "python3",
      "display_name": "Python 3"
    }
  },
  "cells": [
    {
      "cell_type": "markdown",
      "metadata": {
        "id": "-6cQqnsYIqtT"
      },
      "source": [
        "#Mouafak Alsaid Hasan\n",
        "##Homework-03\n",
        "###Naive Bayas' Classifier"
      ]
    },
    {
      "cell_type": "markdown",
      "metadata": {
        "id": "vZKEUv5PJC-R"
      },
      "source": [
        "##Importing Libraries"
      ]
    },
    {
      "cell_type": "code",
      "metadata": {
        "id": "ZHd1EtHtJIJn"
      },
      "source": [
        "import numpy as np\n",
        "import pandas as pd\n",
        "import matplotlib.pyplot as plt\n"
      ],
      "execution_count": 14,
      "outputs": []
    },
    {
      "cell_type": "markdown",
      "metadata": {
        "id": "FnPP9V3yJNwG"
      },
      "source": [
        "##Importing Data"
      ]
    },
    {
      "cell_type": "code",
      "metadata": {
        "id": "CpiwS35KJRB8"
      },
      "source": [
        "#impoting the image data from hw02_data_set_images csv file.\n",
        "image_data_set = np.genfromtxt(\"hw02_data_set_images.csv\", delimiter = \",\")\n",
        "\n",
        "#impoting labels of the image data from hw02_data_set_labels csv file.\n",
        "labels_data_set = np.genfromtxt(\"hw02_data_set_labels.csv\",dtype= 'str', delimiter = \",\").astype(str)\n",
        "\n",
        "# creating arrays to seperate test and traing data sets\n",
        "training_set_data, test_set_data  = [], []\n",
        "training_set_labels, test_set_labels = [], []\n",
        "\n",
        "\n",
        "# fill in the arrays above.\n",
        "for i in range(len(image_data_set)):\n",
        "  if i <25 or (i >= 39 and i < 64) or (i >= 78 and i< 103) or (i >= 117 and i< 142) or (i >= 156 and i < 181):\n",
        "    training_set_data.append(image_data_set[i])\n",
        "    training_set_labels.append(ord(labels_data_set[i][1]) -65)\n",
        "  else:\n",
        "    test_set_data.append(image_data_set[i])\n",
        "    test_set_labels.append(ord(labels_data_set[i][1]) -65)\n",
        "\n",
        "\n",
        "training_set_data = np.array(training_set_data)\n",
        "test_set_data = np.array(test_set_data)\n",
        "training_set_labels = np.array(training_set_labels)\n",
        "test_set_labels = np.array(test_set_labels)\n",
        "\n",
        "training_binary_labels = []\n",
        "test_binary_labels = []\n",
        "\n",
        "for i in test_set_labels:\n",
        "  if i == 0:\n",
        "    test_binary_labels.append([1,0,0,0,0])\n",
        "  elif i == 1:\n",
        "    test_binary_labels.append([0,1,0,0,0])\n",
        "  elif i == 2:\n",
        "    test_binary_labels.append([0,0,1,0,0])\n",
        "  elif i == 3:\n",
        "    test_binary_labels.append([0,0,0,1,0])\n",
        "  elif i == 4:\n",
        "    test_binary_labels.append([0,0,0,0,1])\n",
        "\n",
        "test_binary_labels = np.array(test_binary_labels)\n",
        "\n",
        "for i in training_set_labels:\n",
        "  if i == 0:\n",
        "    training_binary_labels.append([1,0,0,0,0])\n",
        "  elif i == 1:\n",
        "    training_binary_labels.append([0,1,0,0,0])\n",
        "  elif i == 2:\n",
        "    training_binary_labels.append([0,0,1,0,0])\n",
        "  elif i == 3:\n",
        "    training_binary_labels.append([0,0,0,1,0])\n",
        "  elif i == 4:\n",
        "    training_binary_labels.append([0,0,0,0,1])\n",
        "\n",
        "training_binary_labels = np.array(training_binary_labels)"
      ],
      "execution_count": 15,
      "outputs": []
    },
    {
      "cell_type": "markdown",
      "metadata": {
        "id": "EvDRC9Z1S9ae"
      },
      "source": [
        "##Definitions"
      ]
    },
    {
      "cell_type": "code",
      "metadata": {
        "id": "hqhe9112TFWQ"
      },
      "source": [
        "def prior_probability(Y, C):\n",
        "  return np.sum(Y[:,C])/len(Y)\n",
        "\n",
        "def safelog(x):\n",
        "    return(np.log(x + 1e-100))\n",
        "\n",
        "def pij_estimator(X,Y,C):\n",
        "  K = X.shape[1]\n",
        "  class_prob = []\n",
        "  for j in range(K):\n",
        "   class_prob.append((np.matmul(X[:,j], Y[:,C])/ np.sum(Y[:,C])))\n",
        "  return np.array(class_prob)\n",
        "\n",
        "def class_estimator(X, Y):\n",
        "  class_probability = []\n",
        "  for i in range(5):\n",
        "    class_probability.append(pij_estimator(X, Y, i))\n",
        "  return np.array(class_probability)\n",
        "\n",
        "def score_function(X, p, prior):\n",
        "  return (np.dot(X, safelog(p.T)) + np.dot((1 - X), safelog((1 - p)).T) + prior)\n",
        "\n",
        "\n",
        "def Y_predicted(X, Y, prob):\n",
        "  mat = []\n",
        "  for i in range(5):\n",
        "    prior = prior_probability(Y, i)\n",
        "    p = prob[i]\n",
        "    mat.append(score_function(X, p, prior))\n",
        "  scores = np.transpose(mat)\n",
        "  return scores\n",
        "\n",
        "p = class_estimator(training_set_data, training_binary_labels)\n",
        "training_scores = Y_predicted(training_set_data, training_binary_labels, p)\n",
        "\n"
      ],
      "execution_count": null,
      "outputs": []
    },
    {
      "cell_type": "markdown",
      "metadata": {
        "id": "32CzWlEl7MxC"
      },
      "source": [
        "## Naive Bayes' Classifier Implementation"
      ]
    },
    {
      "cell_type": "markdown",
      "metadata": {
        "id": "ECEupCiXkhd1"
      },
      "source": [
        "##Drawing Class Image on Screen"
      ]
    },
    {
      "cell_type": "code",
      "metadata": {
        "id": "qfcCJJE67SqF",
        "colab": {
          "base_uri": "https://localhost:8080/",
          "height": 122
        },
        "outputId": "df81287b-fffc-45a0-8ace-c1ef66408f08"
      },
      "source": [
        "A = class_estimator(training_set_data, training_binary_labels)[0]\n",
        "A = A.reshape((16, 20)).T\n",
        "B = class_estimator(training_set_data, training_binary_labels)[1]\n",
        "B = B.reshape((16, 20)).T\n",
        "C = class_estimator(training_set_data, training_binary_labels)[2]\n",
        "C = C.reshape((16, 20)).T\n",
        "D = class_estimator(training_set_data, training_binary_labels)[3]\n",
        "D = D.reshape((16, 20)).T\n",
        "E = class_estimator(training_set_data, training_binary_labels)[4]\n",
        "E = E.reshape((16, 20)).T\n",
        "_,images = plt.subplots(1,5)\n",
        "images[0].imshow(1 - A, cmap=\"gray\", interpolation=\"nearest\") \n",
        "images[1].imshow(1 - B, cmap=\"gray\", interpolation=\"nearest\") \n",
        "images[2].imshow(1 - C, cmap=\"gray\", interpolation=\"nearest\") \n",
        "images[3].imshow(1 - D, cmap=\"gray\", interpolation=\"nearest\") \n",
        "images[4].imshow(1 - E, cmap=\"gray\", interpolation=\"nearest\") \n",
        "plt.show()\n",
        "\n"
      ],
      "execution_count": 17,
      "outputs": [
        {
          "output_type": "display_data",
          "data": {
            "image/png": "[encoded data removed]",
            "text/plain": [
              "<Figure size 432x288 with 5 Axes>"
            ]
          },
          "metadata": {
            "tags": [],
            "needs_background": "light"
          }
        }
      ]
    },
    {
      "cell_type": "markdown",
      "metadata": {
        "id": "Nf_yMRmKkuvA"
      },
      "source": [
        "##Confusion Matrix of Training Data points"
      ]
    },
    {
      "cell_type": "code",
      "metadata": {
        "colab": {
          "base_uri": "https://localhost:8080/"
        },
        "id": "iIPGYZ1mk229",
        "outputId": "cd859b94-fee0-4d71-fde1-f96b6a46c122"
      },
      "source": [
        "# calculate confusion matrix\n",
        "training_y_pred = np.argmax(training_scores, axis = 1)\n",
        "confusion_matrix = pd.crosstab(training_y_pred, training_set_labels, rownames = ['y_pred'], colnames = ['y_truth'])\n",
        "print(confusion_matrix)"
      ],
      "execution_count": 18,
      "outputs": [
        {
          "output_type": "stream",
          "text": [
            "y_truth   0   1   2   3   4\n",
            "y_pred                     \n",
            "0        25   0   0   0   0\n",
            "1         0  24   1   0   1\n",
            "2         0   0  24   0   0\n",
            "3         0   1   0  25   0\n",
            "4         0   0   0   0  24\n"
          ],
          "name": "stdout"
        }
      ]
    },
    {
      "cell_type": "markdown",
      "metadata": {
        "id": "Gmkz4CryzpT6"
      },
      "source": [
        "##Confusion Matrix of Test Data points"
      ]
    },
    {
      "cell_type": "code",
      "metadata": {
        "colab": {
          "base_uri": "https://localhost:8080/"
        },
        "id": "gTgBv_6Lzu-f",
        "outputId": "84b91226-944d-4cf7-d655-9c3520e5f476"
      },
      "source": [
        "# calculate confusion matrix\n",
        "test_scores = Y_predicted(test_set_data, test_binary_labels, p)\n",
        "test_y_pred = np.argmax(test_scores, axis = 1)\n",
        "confusion_matrix_test = pd.crosstab(test_y_pred, test_set_labels, rownames = ['y_pred'], colnames = ['y_truth'])\n",
        "print(confusion_matrix_test)"
      ],
      "execution_count": 19,
      "outputs": [
        {
          "output_type": "stream",
          "text": [
            "y_truth  0   1  2   3   4\n",
            "y_pred                   \n",
            "0        7   0  0   0   0\n",
            "1        0  11  3   2   4\n",
            "2        0   0  7   0   0\n",
            "3        7   3  3  12   0\n",
            "4        0   0  1   0  10\n"
          ],
          "name": "stdout"
        }
      ]
    }
  ]
}